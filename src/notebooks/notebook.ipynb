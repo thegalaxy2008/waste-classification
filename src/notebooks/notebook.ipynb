{
 "cells": [
  {
   "cell_type": "code",
   "execution_count": 2,
   "id": "aef11412",
   "metadata": {},
   "outputs": [
    {
     "ename": "ImportError",
     "evalue": "attempted relative import with no known parent package",
     "output_type": "error",
     "traceback": [
      "\u001b[31m---------------------------------------------------------------------------\u001b[39m",
      "\u001b[31mImportError\u001b[39m                               Traceback (most recent call last)",
      "\u001b[36mCell\u001b[39m\u001b[36m \u001b[39m\u001b[32mIn[2]\u001b[39m\u001b[32m, line 1\u001b[39m\n\u001b[32m----> \u001b[39m\u001b[32m1\u001b[39m \u001b[38;5;28;01mfrom\u001b[39;00m\u001b[38;5;250m \u001b[39m\u001b[34;01m.\u001b[39;00m\u001b[34;01m.\u001b[39;00m\u001b[34;01mutils\u001b[39;00m\u001b[38;5;250m \u001b[39m\u001b[38;5;28;01mimport\u001b[39;00m get_cwd\n\u001b[32m      2\u001b[39m get_cwd()\n",
      "\u001b[31mImportError\u001b[39m: attempted relative import with no known parent package"
     ]
    }
   ],
   "source": [
    "from ..utils import get_cwd\n",
    "get_cwd()"
   ]
  },
  {
   "cell_type": "code",
   "execution_count": null,
   "id": "6c769127",
   "metadata": {},
   "outputs": [
    {
     "data": {
      "text/plain": [
       "'c:\\\\Users\\\\admin\\\\Desktop\\\\classification pj'"
      ]
     },
     "execution_count": 2,
     "metadata": {},
     "output_type": "execute_result"
    }
   ],
   "source": [
    "import os, sys\n",
    "dir2 = os.path.abspath('')\n",
    "dir1 = os.path.dirname(dir2)\n",
    "if not dir1 in sys.path: sys.path.append(dir1)\n",
    "from utils import get_cwd\n",
    "get_cwd()"
   ]
  },
  {
   "cell_type": "code",
   "execution_count": null,
   "id": "092482be",
   "metadata": {},
   "outputs": [
    {
     "ename": "AttributeError",
     "evalue": "module 'os' has no attribute 'get_cwd'",
     "output_type": "error",
     "traceback": [
      "\u001b[31m---------------------------------------------------------------------------\u001b[39m",
      "\u001b[31mAttributeError\u001b[39m                            Traceback (most recent call last)",
      "\u001b[36mCell\u001b[39m\u001b[36m \u001b[39m\u001b[32mIn[4]\u001b[39m\u001b[32m, line 1\u001b[39m\n\u001b[32m----> \u001b[39m\u001b[32m1\u001b[39m \u001b[43mos\u001b[49m\u001b[43m.\u001b[49m\u001b[43mget_cwd\u001b[49m()\n",
      "\u001b[31mAttributeError\u001b[39m: module 'os' has no attribute 'get_cwd'"
     ]
    }
   ],
   "source": [
    "os.get_cwd()"
   ]
  },
  {
   "cell_type": "code",
   "execution_count": null,
   "id": "8827f746",
   "metadata": {},
   "outputs": [
    {
     "data": {
      "text/plain": [
       "'c:\\\\Users\\\\admin\\\\Desktop\\\\classification pj\\\\src\\\\notebooks'"
      ]
     },
     "execution_count": 5,
     "metadata": {},
     "output_type": "execute_result"
    }
   ],
   "source": [
    "os.getcwd()"
   ]
  },
  {
   "cell_type": "code",
   "execution_count": null,
   "id": "05f3a0cc",
   "metadata": {},
   "outputs": [
    {
     "ename": "NameError",
     "evalue": "name 'utils' is not defined",
     "output_type": "error",
     "traceback": [
      "\u001b[31m---------------------------------------------------------------------------\u001b[39m",
      "\u001b[31mNameError\u001b[39m                                 Traceback (most recent call last)",
      "\u001b[36mCell\u001b[39m\u001b[36m \u001b[39m\u001b[32mIn[6]\u001b[39m\u001b[32m, line 1\u001b[39m\n\u001b[32m----> \u001b[39m\u001b[32m1\u001b[39m dest_folder = os.path.join(\u001b[43mutils\u001b[49m.get_cwd(), \u001b[33m\"\u001b[39m\u001b[33mdataset\u001b[39m\u001b[33m\"\u001b[39m, \u001b[33m\"\u001b[39m\u001b[33mgarbage-dataset\u001b[39m\u001b[33m\"\u001b[39m)\n",
      "\u001b[31mNameError\u001b[39m: name 'utils' is not defined"
     ]
    }
   ],
   "source": [
    " dest_folder = os.path.join(utils.get_cwd(), \"dataset\", \"garbage-dataset\")"
   ]
  },
  {
   "cell_type": "code",
   "execution_count": null,
   "id": "b4ce2728",
   "metadata": {},
   "outputs": [
    {
     "ename": "NameError",
     "evalue": "name 'utils' is not defined",
     "output_type": "error",
     "traceback": [
      "\u001b[31m---------------------------------------------------------------------------\u001b[39m",
      "\u001b[31mNameError\u001b[39m                                 Traceback (most recent call last)",
      "\u001b[36mCell\u001b[39m\u001b[36m \u001b[39m\u001b[32mIn[7]\u001b[39m\u001b[32m, line 1\u001b[39m\n\u001b[32m----> \u001b[39m\u001b[32m1\u001b[39m dest_folder = os.path.join(\u001b[43mutils\u001b[49m.get_cwd(), \u001b[33m\"\u001b[39m\u001b[33mdataset\u001b[39m\u001b[33m\"\u001b[39m, \u001b[33m\"\u001b[39m\u001b[33mgarbage-dataset\u001b[39m\u001b[33m\"\u001b[39m)\n",
      "\u001b[31mNameError\u001b[39m: name 'utils' is not defined"
     ]
    }
   ],
   "source": [
    "dest_folder = os.path.join(utils.get_cwd(), \"dataset\", \"garbage-dataset\")"
   ]
  },
  {
   "cell_type": "code",
   "execution_count": null,
   "id": "37cb06f9",
   "metadata": {},
   "outputs": [],
   "source": [
    "\n",
    "dest_folder = os.path.join(get_cwd(), \"dataset\", \"garbage-dataset\")"
   ]
  },
  {
   "cell_type": "code",
   "execution_count": null,
   "id": "13278bd5",
   "metadata": {},
   "outputs": [
    {
     "name": "stdout",
     "output_type": "stream",
     "text": [
      "c:\\Users\\admin\\Desktop\\classification pj\\dataset\\garbage-dataset\n"
     ]
    }
   ],
   "source": [
    "print(dest_folder)"
   ]
  },
  {
   "cell_type": "code",
   "execution_count": null,
   "id": "7a1270cd",
   "metadata": {},
   "outputs": [
    {
     "name": "stdout",
     "output_type": "stream",
     "text": [
      "Downloading: \"https://download.pytorch.org/models/resnet50-11ad3fa6.pth\" to C:\\Users\\admin/.cache\\torch\\hub\\checkpoints\\resnet50-11ad3fa6.pth\n"
     ]
    },
    {
     "name": "stderr",
     "output_type": "stream",
     "text": [
      "100%|██████████| 97.8M/97.8M [00:18<00:00, 5.51MB/s]\n"
     ]
    }
   ],
   "source": [
    "from torchvision import models\n",
    "model = models.resnet50(weights = models.ResNet50_Weights.IMAGENET1K_V2)\n"
   ]
  },
  {
   "cell_type": "code",
   "execution_count": null,
   "id": "ee6b2a0a",
   "metadata": {},
   "outputs": [
    {
     "data": {
      "text/plain": [
       "==========================================================================================\n",
       "Layer (type:depth-idx)                   Output Shape              Param #\n",
       "==========================================================================================\n",
       "ResNet                                   [32, 1000]                --\n",
       "├─Conv2d: 1-1                            [32, 64, 112, 112]        9,408\n",
       "├─BatchNorm2d: 1-2                       [32, 64, 112, 112]        128\n",
       "├─ReLU: 1-3                              [32, 64, 112, 112]        --\n",
       "├─MaxPool2d: 1-4                         [32, 64, 56, 56]          --\n",
       "├─Sequential: 1-5                        [32, 256, 56, 56]         --\n",
       "│    └─Bottleneck: 2-1                   [32, 256, 56, 56]         --\n",
       "│    │    └─Conv2d: 3-1                  [32, 64, 56, 56]          4,096\n",
       "│    │    └─BatchNorm2d: 3-2             [32, 64, 56, 56]          128\n",
       "│    │    └─ReLU: 3-3                    [32, 64, 56, 56]          --\n",
       "│    │    └─Conv2d: 3-4                  [32, 64, 56, 56]          36,864\n",
       "│    │    └─BatchNorm2d: 3-5             [32, 64, 56, 56]          128\n",
       "│    │    └─ReLU: 3-6                    [32, 64, 56, 56]          --\n",
       "│    │    └─Conv2d: 3-7                  [32, 256, 56, 56]         16,384\n",
       "│    │    └─BatchNorm2d: 3-8             [32, 256, 56, 56]         512\n",
       "│    │    └─Sequential: 3-9              [32, 256, 56, 56]         16,896\n",
       "│    │    └─ReLU: 3-10                   [32, 256, 56, 56]         --\n",
       "│    └─Bottleneck: 2-2                   [32, 256, 56, 56]         --\n",
       "│    │    └─Conv2d: 3-11                 [32, 64, 56, 56]          16,384\n",
       "│    │    └─BatchNorm2d: 3-12            [32, 64, 56, 56]          128\n",
       "│    │    └─ReLU: 3-13                   [32, 64, 56, 56]          --\n",
       "│    │    └─Conv2d: 3-14                 [32, 64, 56, 56]          36,864\n",
       "│    │    └─BatchNorm2d: 3-15            [32, 64, 56, 56]          128\n",
       "│    │    └─ReLU: 3-16                   [32, 64, 56, 56]          --\n",
       "│    │    └─Conv2d: 3-17                 [32, 256, 56, 56]         16,384\n",
       "│    │    └─BatchNorm2d: 3-18            [32, 256, 56, 56]         512\n",
       "│    │    └─ReLU: 3-19                   [32, 256, 56, 56]         --\n",
       "│    └─Bottleneck: 2-3                   [32, 256, 56, 56]         --\n",
       "│    │    └─Conv2d: 3-20                 [32, 64, 56, 56]          16,384\n",
       "│    │    └─BatchNorm2d: 3-21            [32, 64, 56, 56]          128\n",
       "│    │    └─ReLU: 3-22                   [32, 64, 56, 56]          --\n",
       "│    │    └─Conv2d: 3-23                 [32, 64, 56, 56]          36,864\n",
       "│    │    └─BatchNorm2d: 3-24            [32, 64, 56, 56]          128\n",
       "│    │    └─ReLU: 3-25                   [32, 64, 56, 56]          --\n",
       "│    │    └─Conv2d: 3-26                 [32, 256, 56, 56]         16,384\n",
       "│    │    └─BatchNorm2d: 3-27            [32, 256, 56, 56]         512\n",
       "│    │    └─ReLU: 3-28                   [32, 256, 56, 56]         --\n",
       "├─Sequential: 1-6                        [32, 512, 28, 28]         --\n",
       "│    └─Bottleneck: 2-4                   [32, 512, 28, 28]         --\n",
       "│    │    └─Conv2d: 3-29                 [32, 128, 56, 56]         32,768\n",
       "│    │    └─BatchNorm2d: 3-30            [32, 128, 56, 56]         256\n",
       "│    │    └─ReLU: 3-31                   [32, 128, 56, 56]         --\n",
       "│    │    └─Conv2d: 3-32                 [32, 128, 28, 28]         147,456\n",
       "│    │    └─BatchNorm2d: 3-33            [32, 128, 28, 28]         256\n",
       "│    │    └─ReLU: 3-34                   [32, 128, 28, 28]         --\n",
       "│    │    └─Conv2d: 3-35                 [32, 512, 28, 28]         65,536\n",
       "│    │    └─BatchNorm2d: 3-36            [32, 512, 28, 28]         1,024\n",
       "│    │    └─Sequential: 3-37             [32, 512, 28, 28]         132,096\n",
       "│    │    └─ReLU: 3-38                   [32, 512, 28, 28]         --\n",
       "│    └─Bottleneck: 2-5                   [32, 512, 28, 28]         --\n",
       "│    │    └─Conv2d: 3-39                 [32, 128, 28, 28]         65,536\n",
       "│    │    └─BatchNorm2d: 3-40            [32, 128, 28, 28]         256\n",
       "│    │    └─ReLU: 3-41                   [32, 128, 28, 28]         --\n",
       "│    │    └─Conv2d: 3-42                 [32, 128, 28, 28]         147,456\n",
       "│    │    └─BatchNorm2d: 3-43            [32, 128, 28, 28]         256\n",
       "│    │    └─ReLU: 3-44                   [32, 128, 28, 28]         --\n",
       "│    │    └─Conv2d: 3-45                 [32, 512, 28, 28]         65,536\n",
       "│    │    └─BatchNorm2d: 3-46            [32, 512, 28, 28]         1,024\n",
       "│    │    └─ReLU: 3-47                   [32, 512, 28, 28]         --\n",
       "│    └─Bottleneck: 2-6                   [32, 512, 28, 28]         --\n",
       "│    │    └─Conv2d: 3-48                 [32, 128, 28, 28]         65,536\n",
       "│    │    └─BatchNorm2d: 3-49            [32, 128, 28, 28]         256\n",
       "│    │    └─ReLU: 3-50                   [32, 128, 28, 28]         --\n",
       "│    │    └─Conv2d: 3-51                 [32, 128, 28, 28]         147,456\n",
       "│    │    └─BatchNorm2d: 3-52            [32, 128, 28, 28]         256\n",
       "│    │    └─ReLU: 3-53                   [32, 128, 28, 28]         --\n",
       "│    │    └─Conv2d: 3-54                 [32, 512, 28, 28]         65,536\n",
       "│    │    └─BatchNorm2d: 3-55            [32, 512, 28, 28]         1,024\n",
       "│    │    └─ReLU: 3-56                   [32, 512, 28, 28]         --\n",
       "│    └─Bottleneck: 2-7                   [32, 512, 28, 28]         --\n",
       "│    │    └─Conv2d: 3-57                 [32, 128, 28, 28]         65,536\n",
       "│    │    └─BatchNorm2d: 3-58            [32, 128, 28, 28]         256\n",
       "│    │    └─ReLU: 3-59                   [32, 128, 28, 28]         --\n",
       "│    │    └─Conv2d: 3-60                 [32, 128, 28, 28]         147,456\n",
       "│    │    └─BatchNorm2d: 3-61            [32, 128, 28, 28]         256\n",
       "│    │    └─ReLU: 3-62                   [32, 128, 28, 28]         --\n",
       "│    │    └─Conv2d: 3-63                 [32, 512, 28, 28]         65,536\n",
       "│    │    └─BatchNorm2d: 3-64            [32, 512, 28, 28]         1,024\n",
       "│    │    └─ReLU: 3-65                   [32, 512, 28, 28]         --\n",
       "├─Sequential: 1-7                        [32, 1024, 14, 14]        --\n",
       "│    └─Bottleneck: 2-8                   [32, 1024, 14, 14]        --\n",
       "│    │    └─Conv2d: 3-66                 [32, 256, 28, 28]         131,072\n",
       "│    │    └─BatchNorm2d: 3-67            [32, 256, 28, 28]         512\n",
       "│    │    └─ReLU: 3-68                   [32, 256, 28, 28]         --\n",
       "│    │    └─Conv2d: 3-69                 [32, 256, 14, 14]         589,824\n",
       "│    │    └─BatchNorm2d: 3-70            [32, 256, 14, 14]         512\n",
       "│    │    └─ReLU: 3-71                   [32, 256, 14, 14]         --\n",
       "│    │    └─Conv2d: 3-72                 [32, 1024, 14, 14]        262,144\n",
       "│    │    └─BatchNorm2d: 3-73            [32, 1024, 14, 14]        2,048\n",
       "│    │    └─Sequential: 3-74             [32, 1024, 14, 14]        526,336\n",
       "│    │    └─ReLU: 3-75                   [32, 1024, 14, 14]        --\n",
       "│    └─Bottleneck: 2-9                   [32, 1024, 14, 14]        --\n",
       "│    │    └─Conv2d: 3-76                 [32, 256, 14, 14]         262,144\n",
       "│    │    └─BatchNorm2d: 3-77            [32, 256, 14, 14]         512\n",
       "│    │    └─ReLU: 3-78                   [32, 256, 14, 14]         --\n",
       "│    │    └─Conv2d: 3-79                 [32, 256, 14, 14]         589,824\n",
       "│    │    └─BatchNorm2d: 3-80            [32, 256, 14, 14]         512\n",
       "│    │    └─ReLU: 3-81                   [32, 256, 14, 14]         --\n",
       "│    │    └─Conv2d: 3-82                 [32, 1024, 14, 14]        262,144\n",
       "│    │    └─BatchNorm2d: 3-83            [32, 1024, 14, 14]        2,048\n",
       "│    │    └─ReLU: 3-84                   [32, 1024, 14, 14]        --\n",
       "│    └─Bottleneck: 2-10                  [32, 1024, 14, 14]        --\n",
       "│    │    └─Conv2d: 3-85                 [32, 256, 14, 14]         262,144\n",
       "│    │    └─BatchNorm2d: 3-86            [32, 256, 14, 14]         512\n",
       "│    │    └─ReLU: 3-87                   [32, 256, 14, 14]         --\n",
       "│    │    └─Conv2d: 3-88                 [32, 256, 14, 14]         589,824\n",
       "│    │    └─BatchNorm2d: 3-89            [32, 256, 14, 14]         512\n",
       "│    │    └─ReLU: 3-90                   [32, 256, 14, 14]         --\n",
       "│    │    └─Conv2d: 3-91                 [32, 1024, 14, 14]        262,144\n",
       "│    │    └─BatchNorm2d: 3-92            [32, 1024, 14, 14]        2,048\n",
       "│    │    └─ReLU: 3-93                   [32, 1024, 14, 14]        --\n",
       "│    └─Bottleneck: 2-11                  [32, 1024, 14, 14]        --\n",
       "│    │    └─Conv2d: 3-94                 [32, 256, 14, 14]         262,144\n",
       "│    │    └─BatchNorm2d: 3-95            [32, 256, 14, 14]         512\n",
       "│    │    └─ReLU: 3-96                   [32, 256, 14, 14]         --\n",
       "│    │    └─Conv2d: 3-97                 [32, 256, 14, 14]         589,824\n",
       "│    │    └─BatchNorm2d: 3-98            [32, 256, 14, 14]         512\n",
       "│    │    └─ReLU: 3-99                   [32, 256, 14, 14]         --\n",
       "│    │    └─Conv2d: 3-100                [32, 1024, 14, 14]        262,144\n",
       "│    │    └─BatchNorm2d: 3-101           [32, 1024, 14, 14]        2,048\n",
       "│    │    └─ReLU: 3-102                  [32, 1024, 14, 14]        --\n",
       "│    └─Bottleneck: 2-12                  [32, 1024, 14, 14]        --\n",
       "│    │    └─Conv2d: 3-103                [32, 256, 14, 14]         262,144\n",
       "│    │    └─BatchNorm2d: 3-104           [32, 256, 14, 14]         512\n",
       "│    │    └─ReLU: 3-105                  [32, 256, 14, 14]         --\n",
       "│    │    └─Conv2d: 3-106                [32, 256, 14, 14]         589,824\n",
       "│    │    └─BatchNorm2d: 3-107           [32, 256, 14, 14]         512\n",
       "│    │    └─ReLU: 3-108                  [32, 256, 14, 14]         --\n",
       "│    │    └─Conv2d: 3-109                [32, 1024, 14, 14]        262,144\n",
       "│    │    └─BatchNorm2d: 3-110           [32, 1024, 14, 14]        2,048\n",
       "│    │    └─ReLU: 3-111                  [32, 1024, 14, 14]        --\n",
       "│    └─Bottleneck: 2-13                  [32, 1024, 14, 14]        --\n",
       "│    │    └─Conv2d: 3-112                [32, 256, 14, 14]         262,144\n",
       "│    │    └─BatchNorm2d: 3-113           [32, 256, 14, 14]         512\n",
       "│    │    └─ReLU: 3-114                  [32, 256, 14, 14]         --\n",
       "│    │    └─Conv2d: 3-115                [32, 256, 14, 14]         589,824\n",
       "│    │    └─BatchNorm2d: 3-116           [32, 256, 14, 14]         512\n",
       "│    │    └─ReLU: 3-117                  [32, 256, 14, 14]         --\n",
       "│    │    └─Conv2d: 3-118                [32, 1024, 14, 14]        262,144\n",
       "│    │    └─BatchNorm2d: 3-119           [32, 1024, 14, 14]        2,048\n",
       "│    │    └─ReLU: 3-120                  [32, 1024, 14, 14]        --\n",
       "├─Sequential: 1-8                        [32, 2048, 7, 7]          --\n",
       "│    └─Bottleneck: 2-14                  [32, 2048, 7, 7]          --\n",
       "│    │    └─Conv2d: 3-121                [32, 512, 14, 14]         524,288\n",
       "│    │    └─BatchNorm2d: 3-122           [32, 512, 14, 14]         1,024\n",
       "│    │    └─ReLU: 3-123                  [32, 512, 14, 14]         --\n",
       "│    │    └─Conv2d: 3-124                [32, 512, 7, 7]           2,359,296\n",
       "│    │    └─BatchNorm2d: 3-125           [32, 512, 7, 7]           1,024\n",
       "│    │    └─ReLU: 3-126                  [32, 512, 7, 7]           --\n",
       "│    │    └─Conv2d: 3-127                [32, 2048, 7, 7]          1,048,576\n",
       "│    │    └─BatchNorm2d: 3-128           [32, 2048, 7, 7]          4,096\n",
       "│    │    └─Sequential: 3-129            [32, 2048, 7, 7]          2,101,248\n",
       "│    │    └─ReLU: 3-130                  [32, 2048, 7, 7]          --\n",
       "│    └─Bottleneck: 2-15                  [32, 2048, 7, 7]          --\n",
       "│    │    └─Conv2d: 3-131                [32, 512, 7, 7]           1,048,576\n",
       "│    │    └─BatchNorm2d: 3-132           [32, 512, 7, 7]           1,024\n",
       "│    │    └─ReLU: 3-133                  [32, 512, 7, 7]           --\n",
       "│    │    └─Conv2d: 3-134                [32, 512, 7, 7]           2,359,296\n",
       "│    │    └─BatchNorm2d: 3-135           [32, 512, 7, 7]           1,024\n",
       "│    │    └─ReLU: 3-136                  [32, 512, 7, 7]           --\n",
       "│    │    └─Conv2d: 3-137                [32, 2048, 7, 7]          1,048,576\n",
       "│    │    └─BatchNorm2d: 3-138           [32, 2048, 7, 7]          4,096\n",
       "│    │    └─ReLU: 3-139                  [32, 2048, 7, 7]          --\n",
       "│    └─Bottleneck: 2-16                  [32, 2048, 7, 7]          --\n",
       "│    │    └─Conv2d: 3-140                [32, 512, 7, 7]           1,048,576\n",
       "│    │    └─BatchNorm2d: 3-141           [32, 512, 7, 7]           1,024\n",
       "│    │    └─ReLU: 3-142                  [32, 512, 7, 7]           --\n",
       "│    │    └─Conv2d: 3-143                [32, 512, 7, 7]           2,359,296\n",
       "│    │    └─BatchNorm2d: 3-144           [32, 512, 7, 7]           1,024\n",
       "│    │    └─ReLU: 3-145                  [32, 512, 7, 7]           --\n",
       "│    │    └─Conv2d: 3-146                [32, 2048, 7, 7]          1,048,576\n",
       "│    │    └─BatchNorm2d: 3-147           [32, 2048, 7, 7]          4,096\n",
       "│    │    └─ReLU: 3-148                  [32, 2048, 7, 7]          --\n",
       "├─AdaptiveAvgPool2d: 1-9                 [32, 2048, 1, 1]          --\n",
       "├─Linear: 1-10                           [32, 1000]                2,049,000\n",
       "==========================================================================================\n",
       "Total params: 25,557,032\n",
       "Trainable params: 25,557,032\n",
       "Non-trainable params: 0\n",
       "Total mult-adds (Units.GIGABYTES): 130.86\n",
       "==========================================================================================\n",
       "Input size (MB): 19.27\n",
       "Forward/backward pass size (MB): 5690.62\n",
       "Params size (MB): 102.23\n",
       "Estimated Total Size (MB): 5812.11\n",
       "=========================================================================================="
      ]
     },
     "execution_count": 2,
     "metadata": {},
     "output_type": "execute_result"
    }
   ],
   "source": [
    "from torchinfo import summary\n",
    "input_size = (32, 3, 224, 224)\n",
    "summary(model, input_size)"
   ]
  },
  {
   "cell_type": "code",
   "execution_count": null,
   "id": "e5fbccbe",
   "metadata": {},
   "outputs": [],
   "source": [
    "model_stats = summary(model, input_size, col_names=[\"input_size\", \"output_size\",\"trainable\"],row_settings=[\"var_names\"])"
   ]
  },
  {
   "cell_type": "code",
   "execution_count": null,
   "id": "2a3c673e",
   "metadata": {},
   "outputs": [
    {
     "data": {
      "text/plain": [
       "===================================================================================================================\n",
       "Layer (type (var_name))                  Input Shape               Output Shape              Trainable\n",
       "===================================================================================================================\n",
       "ResNet (ResNet)                          [32, 3, 224, 224]         [32, 1000]                True\n",
       "├─Conv2d (conv1)                         [32, 3, 224, 224]         [32, 64, 112, 112]        True\n",
       "├─BatchNorm2d (bn1)                      [32, 64, 112, 112]        [32, 64, 112, 112]        True\n",
       "├─ReLU (relu)                            [32, 64, 112, 112]        [32, 64, 112, 112]        --\n",
       "├─MaxPool2d (maxpool)                    [32, 64, 112, 112]        [32, 64, 56, 56]          --\n",
       "├─Sequential (layer1)                    [32, 64, 56, 56]          [32, 256, 56, 56]         True\n",
       "│    └─Bottleneck (0)                    [32, 64, 56, 56]          [32, 256, 56, 56]         True\n",
       "│    │    └─Conv2d (conv1)               [32, 64, 56, 56]          [32, 64, 56, 56]          True\n",
       "│    │    └─BatchNorm2d (bn1)            [32, 64, 56, 56]          [32, 64, 56, 56]          True\n",
       "│    │    └─ReLU (relu)                  [32, 64, 56, 56]          [32, 64, 56, 56]          --\n",
       "│    │    └─Conv2d (conv2)               [32, 64, 56, 56]          [32, 64, 56, 56]          True\n",
       "│    │    └─BatchNorm2d (bn2)            [32, 64, 56, 56]          [32, 64, 56, 56]          True\n",
       "│    │    └─ReLU (relu)                  [32, 64, 56, 56]          [32, 64, 56, 56]          --\n",
       "│    │    └─Conv2d (conv3)               [32, 64, 56, 56]          [32, 256, 56, 56]         True\n",
       "│    │    └─BatchNorm2d (bn3)            [32, 256, 56, 56]         [32, 256, 56, 56]         True\n",
       "│    │    └─Sequential (downsample)      [32, 64, 56, 56]          [32, 256, 56, 56]         True\n",
       "│    │    └─ReLU (relu)                  [32, 256, 56, 56]         [32, 256, 56, 56]         --\n",
       "│    └─Bottleneck (1)                    [32, 256, 56, 56]         [32, 256, 56, 56]         True\n",
       "│    │    └─Conv2d (conv1)               [32, 256, 56, 56]         [32, 64, 56, 56]          True\n",
       "│    │    └─BatchNorm2d (bn1)            [32, 64, 56, 56]          [32, 64, 56, 56]          True\n",
       "│    │    └─ReLU (relu)                  [32, 64, 56, 56]          [32, 64, 56, 56]          --\n",
       "│    │    └─Conv2d (conv2)               [32, 64, 56, 56]          [32, 64, 56, 56]          True\n",
       "│    │    └─BatchNorm2d (bn2)            [32, 64, 56, 56]          [32, 64, 56, 56]          True\n",
       "│    │    └─ReLU (relu)                  [32, 64, 56, 56]          [32, 64, 56, 56]          --\n",
       "│    │    └─Conv2d (conv3)               [32, 64, 56, 56]          [32, 256, 56, 56]         True\n",
       "│    │    └─BatchNorm2d (bn3)            [32, 256, 56, 56]         [32, 256, 56, 56]         True\n",
       "│    │    └─ReLU (relu)                  [32, 256, 56, 56]         [32, 256, 56, 56]         --\n",
       "│    └─Bottleneck (2)                    [32, 256, 56, 56]         [32, 256, 56, 56]         True\n",
       "│    │    └─Conv2d (conv1)               [32, 256, 56, 56]         [32, 64, 56, 56]          True\n",
       "│    │    └─BatchNorm2d (bn1)            [32, 64, 56, 56]          [32, 64, 56, 56]          True\n",
       "│    │    └─ReLU (relu)                  [32, 64, 56, 56]          [32, 64, 56, 56]          --\n",
       "│    │    └─Conv2d (conv2)               [32, 64, 56, 56]          [32, 64, 56, 56]          True\n",
       "│    │    └─BatchNorm2d (bn2)            [32, 64, 56, 56]          [32, 64, 56, 56]          True\n",
       "│    │    └─ReLU (relu)                  [32, 64, 56, 56]          [32, 64, 56, 56]          --\n",
       "│    │    └─Conv2d (conv3)               [32, 64, 56, 56]          [32, 256, 56, 56]         True\n",
       "│    │    └─BatchNorm2d (bn3)            [32, 256, 56, 56]         [32, 256, 56, 56]         True\n",
       "│    │    └─ReLU (relu)                  [32, 256, 56, 56]         [32, 256, 56, 56]         --\n",
       "├─Sequential (layer2)                    [32, 256, 56, 56]         [32, 512, 28, 28]         True\n",
       "│    └─Bottleneck (0)                    [32, 256, 56, 56]         [32, 512, 28, 28]         True\n",
       "│    │    └─Conv2d (conv1)               [32, 256, 56, 56]         [32, 128, 56, 56]         True\n",
       "│    │    └─BatchNorm2d (bn1)            [32, 128, 56, 56]         [32, 128, 56, 56]         True\n",
       "│    │    └─ReLU (relu)                  [32, 128, 56, 56]         [32, 128, 56, 56]         --\n",
       "│    │    └─Conv2d (conv2)               [32, 128, 56, 56]         [32, 128, 28, 28]         True\n",
       "│    │    └─BatchNorm2d (bn2)            [32, 128, 28, 28]         [32, 128, 28, 28]         True\n",
       "│    │    └─ReLU (relu)                  [32, 128, 28, 28]         [32, 128, 28, 28]         --\n",
       "│    │    └─Conv2d (conv3)               [32, 128, 28, 28]         [32, 512, 28, 28]         True\n",
       "│    │    └─BatchNorm2d (bn3)            [32, 512, 28, 28]         [32, 512, 28, 28]         True\n",
       "│    │    └─Sequential (downsample)      [32, 256, 56, 56]         [32, 512, 28, 28]         True\n",
       "│    │    └─ReLU (relu)                  [32, 512, 28, 28]         [32, 512, 28, 28]         --\n",
       "│    └─Bottleneck (1)                    [32, 512, 28, 28]         [32, 512, 28, 28]         True\n",
       "│    │    └─Conv2d (conv1)               [32, 512, 28, 28]         [32, 128, 28, 28]         True\n",
       "│    │    └─BatchNorm2d (bn1)            [32, 128, 28, 28]         [32, 128, 28, 28]         True\n",
       "│    │    └─ReLU (relu)                  [32, 128, 28, 28]         [32, 128, 28, 28]         --\n",
       "│    │    └─Conv2d (conv2)               [32, 128, 28, 28]         [32, 128, 28, 28]         True\n",
       "│    │    └─BatchNorm2d (bn2)            [32, 128, 28, 28]         [32, 128, 28, 28]         True\n",
       "│    │    └─ReLU (relu)                  [32, 128, 28, 28]         [32, 128, 28, 28]         --\n",
       "│    │    └─Conv2d (conv3)               [32, 128, 28, 28]         [32, 512, 28, 28]         True\n",
       "│    │    └─BatchNorm2d (bn3)            [32, 512, 28, 28]         [32, 512, 28, 28]         True\n",
       "│    │    └─ReLU (relu)                  [32, 512, 28, 28]         [32, 512, 28, 28]         --\n",
       "│    └─Bottleneck (2)                    [32, 512, 28, 28]         [32, 512, 28, 28]         True\n",
       "│    │    └─Conv2d (conv1)               [32, 512, 28, 28]         [32, 128, 28, 28]         True\n",
       "│    │    └─BatchNorm2d (bn1)            [32, 128, 28, 28]         [32, 128, 28, 28]         True\n",
       "│    │    └─ReLU (relu)                  [32, 128, 28, 28]         [32, 128, 28, 28]         --\n",
       "│    │    └─Conv2d (conv2)               [32, 128, 28, 28]         [32, 128, 28, 28]         True\n",
       "│    │    └─BatchNorm2d (bn2)            [32, 128, 28, 28]         [32, 128, 28, 28]         True\n",
       "│    │    └─ReLU (relu)                  [32, 128, 28, 28]         [32, 128, 28, 28]         --\n",
       "│    │    └─Conv2d (conv3)               [32, 128, 28, 28]         [32, 512, 28, 28]         True\n",
       "│    │    └─BatchNorm2d (bn3)            [32, 512, 28, 28]         [32, 512, 28, 28]         True\n",
       "│    │    └─ReLU (relu)                  [32, 512, 28, 28]         [32, 512, 28, 28]         --\n",
       "│    └─Bottleneck (3)                    [32, 512, 28, 28]         [32, 512, 28, 28]         True\n",
       "│    │    └─Conv2d (conv1)               [32, 512, 28, 28]         [32, 128, 28, 28]         True\n",
       "│    │    └─BatchNorm2d (bn1)            [32, 128, 28, 28]         [32, 128, 28, 28]         True\n",
       "│    │    └─ReLU (relu)                  [32, 128, 28, 28]         [32, 128, 28, 28]         --\n",
       "│    │    └─Conv2d (conv2)               [32, 128, 28, 28]         [32, 128, 28, 28]         True\n",
       "│    │    └─BatchNorm2d (bn2)            [32, 128, 28, 28]         [32, 128, 28, 28]         True\n",
       "│    │    └─ReLU (relu)                  [32, 128, 28, 28]         [32, 128, 28, 28]         --\n",
       "│    │    └─Conv2d (conv3)               [32, 128, 28, 28]         [32, 512, 28, 28]         True\n",
       "│    │    └─BatchNorm2d (bn3)            [32, 512, 28, 28]         [32, 512, 28, 28]         True\n",
       "│    │    └─ReLU (relu)                  [32, 512, 28, 28]         [32, 512, 28, 28]         --\n",
       "├─Sequential (layer3)                    [32, 512, 28, 28]         [32, 1024, 14, 14]        True\n",
       "│    └─Bottleneck (0)                    [32, 512, 28, 28]         [32, 1024, 14, 14]        True\n",
       "│    │    └─Conv2d (conv1)               [32, 512, 28, 28]         [32, 256, 28, 28]         True\n",
       "│    │    └─BatchNorm2d (bn1)            [32, 256, 28, 28]         [32, 256, 28, 28]         True\n",
       "│    │    └─ReLU (relu)                  [32, 256, 28, 28]         [32, 256, 28, 28]         --\n",
       "│    │    └─Conv2d (conv2)               [32, 256, 28, 28]         [32, 256, 14, 14]         True\n",
       "│    │    └─BatchNorm2d (bn2)            [32, 256, 14, 14]         [32, 256, 14, 14]         True\n",
       "│    │    └─ReLU (relu)                  [32, 256, 14, 14]         [32, 256, 14, 14]         --\n",
       "│    │    └─Conv2d (conv3)               [32, 256, 14, 14]         [32, 1024, 14, 14]        True\n",
       "│    │    └─BatchNorm2d (bn3)            [32, 1024, 14, 14]        [32, 1024, 14, 14]        True\n",
       "│    │    └─Sequential (downsample)      [32, 512, 28, 28]         [32, 1024, 14, 14]        True\n",
       "│    │    └─ReLU (relu)                  [32, 1024, 14, 14]        [32, 1024, 14, 14]        --\n",
       "│    └─Bottleneck (1)                    [32, 1024, 14, 14]        [32, 1024, 14, 14]        True\n",
       "│    │    └─Conv2d (conv1)               [32, 1024, 14, 14]        [32, 256, 14, 14]         True\n",
       "│    │    └─BatchNorm2d (bn1)            [32, 256, 14, 14]         [32, 256, 14, 14]         True\n",
       "│    │    └─ReLU (relu)                  [32, 256, 14, 14]         [32, 256, 14, 14]         --\n",
       "│    │    └─Conv2d (conv2)               [32, 256, 14, 14]         [32, 256, 14, 14]         True\n",
       "│    │    └─BatchNorm2d (bn2)            [32, 256, 14, 14]         [32, 256, 14, 14]         True\n",
       "│    │    └─ReLU (relu)                  [32, 256, 14, 14]         [32, 256, 14, 14]         --\n",
       "│    │    └─Conv2d (conv3)               [32, 256, 14, 14]         [32, 1024, 14, 14]        True\n",
       "│    │    └─BatchNorm2d (bn3)            [32, 1024, 14, 14]        [32, 1024, 14, 14]        True\n",
       "│    │    └─ReLU (relu)                  [32, 1024, 14, 14]        [32, 1024, 14, 14]        --\n",
       "│    └─Bottleneck (2)                    [32, 1024, 14, 14]        [32, 1024, 14, 14]        True\n",
       "│    │    └─Conv2d (conv1)               [32, 1024, 14, 14]        [32, 256, 14, 14]         True\n",
       "│    │    └─BatchNorm2d (bn1)            [32, 256, 14, 14]         [32, 256, 14, 14]         True\n",
       "│    │    └─ReLU (relu)                  [32, 256, 14, 14]         [32, 256, 14, 14]         --\n",
       "│    │    └─Conv2d (conv2)               [32, 256, 14, 14]         [32, 256, 14, 14]         True\n",
       "│    │    └─BatchNorm2d (bn2)            [32, 256, 14, 14]         [32, 256, 14, 14]         True\n",
       "│    │    └─ReLU (relu)                  [32, 256, 14, 14]         [32, 256, 14, 14]         --\n",
       "│    │    └─Conv2d (conv3)               [32, 256, 14, 14]         [32, 1024, 14, 14]        True\n",
       "│    │    └─BatchNorm2d (bn3)            [32, 1024, 14, 14]        [32, 1024, 14, 14]        True\n",
       "│    │    └─ReLU (relu)                  [32, 1024, 14, 14]        [32, 1024, 14, 14]        --\n",
       "│    └─Bottleneck (3)                    [32, 1024, 14, 14]        [32, 1024, 14, 14]        True\n",
       "│    │    └─Conv2d (conv1)               [32, 1024, 14, 14]        [32, 256, 14, 14]         True\n",
       "│    │    └─BatchNorm2d (bn1)            [32, 256, 14, 14]         [32, 256, 14, 14]         True\n",
       "│    │    └─ReLU (relu)                  [32, 256, 14, 14]         [32, 256, 14, 14]         --\n",
       "│    │    └─Conv2d (conv2)               [32, 256, 14, 14]         [32, 256, 14, 14]         True\n",
       "│    │    └─BatchNorm2d (bn2)            [32, 256, 14, 14]         [32, 256, 14, 14]         True\n",
       "│    │    └─ReLU (relu)                  [32, 256, 14, 14]         [32, 256, 14, 14]         --\n",
       "│    │    └─Conv2d (conv3)               [32, 256, 14, 14]         [32, 1024, 14, 14]        True\n",
       "│    │    └─BatchNorm2d (bn3)            [32, 1024, 14, 14]        [32, 1024, 14, 14]        True\n",
       "│    │    └─ReLU (relu)                  [32, 1024, 14, 14]        [32, 1024, 14, 14]        --\n",
       "│    └─Bottleneck (4)                    [32, 1024, 14, 14]        [32, 1024, 14, 14]        True\n",
       "│    │    └─Conv2d (conv1)               [32, 1024, 14, 14]        [32, 256, 14, 14]         True\n",
       "│    │    └─BatchNorm2d (bn1)            [32, 256, 14, 14]         [32, 256, 14, 14]         True\n",
       "│    │    └─ReLU (relu)                  [32, 256, 14, 14]         [32, 256, 14, 14]         --\n",
       "│    │    └─Conv2d (conv2)               [32, 256, 14, 14]         [32, 256, 14, 14]         True\n",
       "│    │    └─BatchNorm2d (bn2)            [32, 256, 14, 14]         [32, 256, 14, 14]         True\n",
       "│    │    └─ReLU (relu)                  [32, 256, 14, 14]         [32, 256, 14, 14]         --\n",
       "│    │    └─Conv2d (conv3)               [32, 256, 14, 14]         [32, 1024, 14, 14]        True\n",
       "│    │    └─BatchNorm2d (bn3)            [32, 1024, 14, 14]        [32, 1024, 14, 14]        True\n",
       "│    │    └─ReLU (relu)                  [32, 1024, 14, 14]        [32, 1024, 14, 14]        --\n",
       "│    └─Bottleneck (5)                    [32, 1024, 14, 14]        [32, 1024, 14, 14]        True\n",
       "│    │    └─Conv2d (conv1)               [32, 1024, 14, 14]        [32, 256, 14, 14]         True\n",
       "│    │    └─BatchNorm2d (bn1)            [32, 256, 14, 14]         [32, 256, 14, 14]         True\n",
       "│    │    └─ReLU (relu)                  [32, 256, 14, 14]         [32, 256, 14, 14]         --\n",
       "│    │    └─Conv2d (conv2)               [32, 256, 14, 14]         [32, 256, 14, 14]         True\n",
       "│    │    └─BatchNorm2d (bn2)            [32, 256, 14, 14]         [32, 256, 14, 14]         True\n",
       "│    │    └─ReLU (relu)                  [32, 256, 14, 14]         [32, 256, 14, 14]         --\n",
       "│    │    └─Conv2d (conv3)               [32, 256, 14, 14]         [32, 1024, 14, 14]        True\n",
       "│    │    └─BatchNorm2d (bn3)            [32, 1024, 14, 14]        [32, 1024, 14, 14]        True\n",
       "│    │    └─ReLU (relu)                  [32, 1024, 14, 14]        [32, 1024, 14, 14]        --\n",
       "├─Sequential (layer4)                    [32, 1024, 14, 14]        [32, 2048, 7, 7]          True\n",
       "│    └─Bottleneck (0)                    [32, 1024, 14, 14]        [32, 2048, 7, 7]          True\n",
       "│    │    └─Conv2d (conv1)               [32, 1024, 14, 14]        [32, 512, 14, 14]         True\n",
       "│    │    └─BatchNorm2d (bn1)            [32, 512, 14, 14]         [32, 512, 14, 14]         True\n",
       "│    │    └─ReLU (relu)                  [32, 512, 14, 14]         [32, 512, 14, 14]         --\n",
       "│    │    └─Conv2d (conv2)               [32, 512, 14, 14]         [32, 512, 7, 7]           True\n",
       "│    │    └─BatchNorm2d (bn2)            [32, 512, 7, 7]           [32, 512, 7, 7]           True\n",
       "│    │    └─ReLU (relu)                  [32, 512, 7, 7]           [32, 512, 7, 7]           --\n",
       "│    │    └─Conv2d (conv3)               [32, 512, 7, 7]           [32, 2048, 7, 7]          True\n",
       "│    │    └─BatchNorm2d (bn3)            [32, 2048, 7, 7]          [32, 2048, 7, 7]          True\n",
       "│    │    └─Sequential (downsample)      [32, 1024, 14, 14]        [32, 2048, 7, 7]          True\n",
       "│    │    └─ReLU (relu)                  [32, 2048, 7, 7]          [32, 2048, 7, 7]          --\n",
       "│    └─Bottleneck (1)                    [32, 2048, 7, 7]          [32, 2048, 7, 7]          True\n",
       "│    │    └─Conv2d (conv1)               [32, 2048, 7, 7]          [32, 512, 7, 7]           True\n",
       "│    │    └─BatchNorm2d (bn1)            [32, 512, 7, 7]           [32, 512, 7, 7]           True\n",
       "│    │    └─ReLU (relu)                  [32, 512, 7, 7]           [32, 512, 7, 7]           --\n",
       "│    │    └─Conv2d (conv2)               [32, 512, 7, 7]           [32, 512, 7, 7]           True\n",
       "│    │    └─BatchNorm2d (bn2)            [32, 512, 7, 7]           [32, 512, 7, 7]           True\n",
       "│    │    └─ReLU (relu)                  [32, 512, 7, 7]           [32, 512, 7, 7]           --\n",
       "│    │    └─Conv2d (conv3)               [32, 512, 7, 7]           [32, 2048, 7, 7]          True\n",
       "│    │    └─BatchNorm2d (bn3)            [32, 2048, 7, 7]          [32, 2048, 7, 7]          True\n",
       "│    │    └─ReLU (relu)                  [32, 2048, 7, 7]          [32, 2048, 7, 7]          --\n",
       "│    └─Bottleneck (2)                    [32, 2048, 7, 7]          [32, 2048, 7, 7]          True\n",
       "│    │    └─Conv2d (conv1)               [32, 2048, 7, 7]          [32, 512, 7, 7]           True\n",
       "│    │    └─BatchNorm2d (bn1)            [32, 512, 7, 7]           [32, 512, 7, 7]           True\n",
       "│    │    └─ReLU (relu)                  [32, 512, 7, 7]           [32, 512, 7, 7]           --\n",
       "│    │    └─Conv2d (conv2)               [32, 512, 7, 7]           [32, 512, 7, 7]           True\n",
       "│    │    └─BatchNorm2d (bn2)            [32, 512, 7, 7]           [32, 512, 7, 7]           True\n",
       "│    │    └─ReLU (relu)                  [32, 512, 7, 7]           [32, 512, 7, 7]           --\n",
       "│    │    └─Conv2d (conv3)               [32, 512, 7, 7]           [32, 2048, 7, 7]          True\n",
       "│    │    └─BatchNorm2d (bn3)            [32, 2048, 7, 7]          [32, 2048, 7, 7]          True\n",
       "│    │    └─ReLU (relu)                  [32, 2048, 7, 7]          [32, 2048, 7, 7]          --\n",
       "├─AdaptiveAvgPool2d (avgpool)            [32, 2048, 7, 7]          [32, 2048, 1, 1]          --\n",
       "├─Linear (fc)                            [32, 2048]                [32, 1000]                True\n",
       "===================================================================================================================\n",
       "Total params: 25,557,032\n",
       "Trainable params: 25,557,032\n",
       "Non-trainable params: 0\n",
       "Total mult-adds (Units.GIGABYTES): 130.86\n",
       "===================================================================================================================\n",
       "Input size (MB): 19.27\n",
       "Forward/backward pass size (MB): 5690.62\n",
       "Params size (MB): 102.23\n",
       "Estimated Total Size (MB): 5812.11\n",
       "==================================================================================================================="
      ]
     },
     "execution_count": 4,
     "metadata": {},
     "output_type": "execute_result"
    }
   ],
   "source": [
    "model_stats"
   ]
  },
  {
   "cell_type": "markdown",
   "id": "261c76a9",
   "metadata": {},
   "source": [
    "weights = models.ResNet50_Weights.IMAGENET1K_V2"
   ]
  },
  {
   "cell_type": "code",
   "execution_count": null,
   "id": "0223b8df",
   "metadata": {},
   "outputs": [],
   "source": [
    "weights = models.ResNet50_Weights.IMAGENET1K_V2"
   ]
  },
  {
   "cell_type": "code",
   "execution_count": null,
   "id": "5111f431",
   "metadata": {},
   "outputs": [
    {
     "data": {
      "text/plain": [
       "functools.partial(<class 'torchvision.transforms._presets.ImageClassification'>, crop_size=224, resize_size=232)"
      ]
     },
     "execution_count": 6,
     "metadata": {},
     "output_type": "execute_result"
    }
   ],
   "source": [
    "weights.transforms"
   ]
  },
  {
   "cell_type": "code",
   "execution_count": null,
   "id": "2a3e0bf9",
   "metadata": {},
   "outputs": [
    {
     "data": {
      "text/plain": [
       "ImageClassification(\n",
       "    crop_size=[224]\n",
       "    resize_size=[232]\n",
       "    mean=[0.485, 0.456, 0.406]\n",
       "    std=[0.229, 0.224, 0.225]\n",
       "    interpolation=InterpolationMode.BILINEAR\n",
       ")"
      ]
     },
     "execution_count": 7,
     "metadata": {},
     "output_type": "execute_result"
    }
   ],
   "source": [
    "weights.transforms()"
   ]
  },
  {
   "cell_type": "code",
   "execution_count": null,
   "id": "55441b95",
   "metadata": {},
   "outputs": [
    {
     "name": "stdout",
     "output_type": "stream",
     "text": [
      "Downloading: \"https://download.pytorch.org/models/mobilenet_v2-b0353104.pth\" to C:\\Users\\admin/.cache\\torch\\hub\\checkpoints\\mobilenet_v2-b0353104.pth\n"
     ]
    },
    {
     "name": "stderr",
     "output_type": "stream",
     "text": [
      "100%|██████████| 13.6M/13.6M [00:03<00:00, 3.71MB/s]\n"
     ]
    },
    {
     "ename": "NameError",
     "evalue": "name 'summary' is not defined",
     "output_type": "error",
     "traceback": [
      "\u001b[31m---------------------------------------------------------------------------\u001b[39m",
      "\u001b[31mNameError\u001b[39m                                 Traceback (most recent call last)",
      "\u001b[36mCell\u001b[39m\u001b[36m \u001b[39m\u001b[32mIn[7]\u001b[39m\u001b[32m, line 4\u001b[39m\n\u001b[32m      2\u001b[39m model = models.mobilenet_v2(weights=models.MobileNet_V2_Weights.IMAGENET1K_V1)\n\u001b[32m      3\u001b[39m input_size = (\u001b[32m32\u001b[39m, \u001b[32m3\u001b[39m, \u001b[32m224\u001b[39m, \u001b[32m224\u001b[39m)\n\u001b[32m----> \u001b[39m\u001b[32m4\u001b[39m \u001b[43msummary\u001b[49m(model, input_size)\n",
      "\u001b[31mNameError\u001b[39m: name 'summary' is not defined"
     ]
    }
   ],
   "source": [
    "from torchvision import models\n",
    "model = models.mobilenet_v2(weights=models.MobileNet_V2_Weights.IMAGENET1K_V1)\n",
    "input_size = (32, 3, 224, 224)\n",
    "\n",
    "\n"
   ]
  },
  {
   "cell_type": "code",
   "execution_count": null,
   "id": "ce839afe",
   "metadata": {},
   "outputs": [
    {
     "data": {
      "text/plain": [
       "====================================================================================================\n",
       "Layer (type:depth-idx)                             Output Shape              Param #\n",
       "====================================================================================================\n",
       "MobileNetV2                                        [32, 1000]                --\n",
       "├─Sequential: 1-1                                  [32, 1280, 7, 7]          --\n",
       "│    └─Conv2dNormActivation: 2-1                   [32, 32, 112, 112]        --\n",
       "│    │    └─Conv2d: 3-1                            [32, 32, 112, 112]        864\n",
       "│    │    └─BatchNorm2d: 3-2                       [32, 32, 112, 112]        64\n",
       "│    │    └─ReLU6: 3-3                             [32, 32, 112, 112]        --\n",
       "│    └─InvertedResidual: 2-2                       [32, 16, 112, 112]        --\n",
       "│    │    └─Sequential: 3-4                        [32, 16, 112, 112]        896\n",
       "│    └─InvertedResidual: 2-3                       [32, 24, 56, 56]          --\n",
       "│    │    └─Sequential: 3-5                        [32, 24, 56, 56]          5,136\n",
       "│    └─InvertedResidual: 2-4                       [32, 24, 56, 56]          --\n",
       "│    │    └─Sequential: 3-6                        [32, 24, 56, 56]          8,832\n",
       "│    └─InvertedResidual: 2-5                       [32, 32, 28, 28]          --\n",
       "│    │    └─Sequential: 3-7                        [32, 32, 28, 28]          10,000\n",
       "│    └─InvertedResidual: 2-6                       [32, 32, 28, 28]          --\n",
       "│    │    └─Sequential: 3-8                        [32, 32, 28, 28]          14,848\n",
       "│    └─InvertedResidual: 2-7                       [32, 32, 28, 28]          --\n",
       "│    │    └─Sequential: 3-9                        [32, 32, 28, 28]          14,848\n",
       "│    └─InvertedResidual: 2-8                       [32, 64, 14, 14]          --\n",
       "│    │    └─Sequential: 3-10                       [32, 64, 14, 14]          21,056\n",
       "│    └─InvertedResidual: 2-9                       [32, 64, 14, 14]          --\n",
       "│    │    └─Sequential: 3-11                       [32, 64, 14, 14]          54,272\n",
       "│    └─InvertedResidual: 2-10                      [32, 64, 14, 14]          --\n",
       "│    │    └─Sequential: 3-12                       [32, 64, 14, 14]          54,272\n",
       "│    └─InvertedResidual: 2-11                      [32, 64, 14, 14]          --\n",
       "│    │    └─Sequential: 3-13                       [32, 64, 14, 14]          54,272\n",
       "│    └─InvertedResidual: 2-12                      [32, 96, 14, 14]          --\n",
       "│    │    └─Sequential: 3-14                       [32, 96, 14, 14]          66,624\n",
       "│    └─InvertedResidual: 2-13                      [32, 96, 14, 14]          --\n",
       "│    │    └─Sequential: 3-15                       [32, 96, 14, 14]          118,272\n",
       "│    └─InvertedResidual: 2-14                      [32, 96, 14, 14]          --\n",
       "│    │    └─Sequential: 3-16                       [32, 96, 14, 14]          118,272\n",
       "│    └─InvertedResidual: 2-15                      [32, 160, 7, 7]           --\n",
       "│    │    └─Sequential: 3-17                       [32, 160, 7, 7]           155,264\n",
       "│    └─InvertedResidual: 2-16                      [32, 160, 7, 7]           --\n",
       "│    │    └─Sequential: 3-18                       [32, 160, 7, 7]           320,000\n",
       "│    └─InvertedResidual: 2-17                      [32, 160, 7, 7]           --\n",
       "│    │    └─Sequential: 3-19                       [32, 160, 7, 7]           320,000\n",
       "│    └─InvertedResidual: 2-18                      [32, 320, 7, 7]           --\n",
       "│    │    └─Sequential: 3-20                       [32, 320, 7, 7]           473,920\n",
       "│    └─Conv2dNormActivation: 2-19                  [32, 1280, 7, 7]          --\n",
       "│    │    └─Conv2d: 3-21                           [32, 1280, 7, 7]          409,600\n",
       "│    │    └─BatchNorm2d: 3-22                      [32, 1280, 7, 7]          2,560\n",
       "│    │    └─ReLU6: 3-23                            [32, 1280, 7, 7]          --\n",
       "├─Sequential: 1-2                                  [32, 1000]                --\n",
       "│    └─Dropout: 2-20                               [32, 1280]                --\n",
       "│    └─Linear: 2-21                                [32, 1000]                1,281,000\n",
       "====================================================================================================\n",
       "Total params: 3,504,872\n",
       "Trainable params: 3,504,872\n",
       "Non-trainable params: 0\n",
       "Total mult-adds (Units.GIGABYTES): 9.63\n",
       "====================================================================================================\n",
       "Input size (MB): 19.27\n",
       "Forward/backward pass size (MB): 3419.45\n",
       "Params size (MB): 14.02\n",
       "Estimated Total Size (MB): 3452.74\n",
       "===================================================================================================="
      ]
     },
     "execution_count": 8,
     "metadata": {},
     "output_type": "execute_result"
    }
   ],
   "source": [
    "from torchinfo import summary\n",
    "input_size = (32, 3, 224, 224)\n",
    "summary(model, input_size)"
   ]
  },
  {
   "cell_type": "code",
   "execution_count": null,
   "id": "040641ba",
   "metadata": {},
   "outputs": [
    {
     "data": {
      "text/plain": [
       "ImageClassification(\n",
       "    crop_size=[224]\n",
       "    resize_size=[256]\n",
       "    mean=[0.485, 0.456, 0.406]\n",
       "    std=[0.229, 0.224, 0.225]\n",
       "    interpolation=InterpolationMode.BILINEAR\n",
       ")"
      ]
     },
     "execution_count": 14,
     "metadata": {},
     "output_type": "execute_result"
    }
   ],
   "source": [
    "model_stats = summary(model, input_size, col_names=[\"input_size\", \"output_size\",\"trainable\"],row_settings=[\"var_names\"])\n",
    "model_stats\n",
    "weights = models.MobileNet_V2_Weights.IMAGENET1K_V1\n",
    "weights.transforms()"
   ]
  },
  {
   "cell_type": "code",
   "execution_count": null,
   "id": "c82c7e6c",
   "metadata": {},
   "outputs": [
    {
     "name": "stdout",
     "output_type": "stream",
     "text": [
      "Downloading: \"https://download.pytorch.org/models/efficientnet_b2_rwightman-c35c1473.pth\" to C:\\Users\\admin/.cache\\torch\\hub\\checkpoints\\efficientnet_b2_rwightman-c35c1473.pth\n"
     ]
    },
    {
     "name": "stderr",
     "output_type": "stream",
     "text": [
      "100%|██████████| 35.2M/35.2M [00:13<00:00, 2.73MB/s]\n"
     ]
    }
   ],
   "source": [
    "from torchvision import models\n",
    "model = models.efficientnet_b2(weights=models.EfficientNet_B2_Weights.IMAGENET1K_V1)\n",
    "input_size = (32, 3, 224, 224)"
   ]
  },
  {
   "cell_type": "code",
   "execution_count": null,
   "id": "78dd120f",
   "metadata": {},
   "outputs": [
    {
     "data": {
      "text/plain": [
       "=======================================================================================================================================\n",
       "Layer (type (var_name))                                      Input Shape               Output Shape              Trainable\n",
       "=======================================================================================================================================\n",
       "EfficientNet (EfficientNet)                                  [32, 3, 224, 224]         [32, 1000]                True\n",
       "├─Sequential (features)                                      [32, 3, 224, 224]         [32, 1408, 7, 7]          True\n",
       "│    └─Conv2dNormActivation (0)                              [32, 3, 224, 224]         [32, 32, 112, 112]        True\n",
       "│    │    └─Conv2d (0)                                       [32, 3, 224, 224]         [32, 32, 112, 112]        True\n",
       "│    │    └─BatchNorm2d (1)                                  [32, 32, 112, 112]        [32, 32, 112, 112]        True\n",
       "│    │    └─SiLU (2)                                         [32, 32, 112, 112]        [32, 32, 112, 112]        --\n",
       "│    └─Sequential (1)                                        [32, 32, 112, 112]        [32, 16, 112, 112]        True\n",
       "│    │    └─MBConv (0)                                       [32, 32, 112, 112]        [32, 16, 112, 112]        True\n",
       "│    │    └─MBConv (1)                                       [32, 16, 112, 112]        [32, 16, 112, 112]        True\n",
       "│    └─Sequential (2)                                        [32, 16, 112, 112]        [32, 24, 56, 56]          True\n",
       "│    │    └─MBConv (0)                                       [32, 16, 112, 112]        [32, 24, 56, 56]          True\n",
       "│    │    └─MBConv (1)                                       [32, 24, 56, 56]          [32, 24, 56, 56]          True\n",
       "│    │    └─MBConv (2)                                       [32, 24, 56, 56]          [32, 24, 56, 56]          True\n",
       "│    └─Sequential (3)                                        [32, 24, 56, 56]          [32, 48, 28, 28]          True\n",
       "│    │    └─MBConv (0)                                       [32, 24, 56, 56]          [32, 48, 28, 28]          True\n",
       "│    │    └─MBConv (1)                                       [32, 48, 28, 28]          [32, 48, 28, 28]          True\n",
       "│    │    └─MBConv (2)                                       [32, 48, 28, 28]          [32, 48, 28, 28]          True\n",
       "│    └─Sequential (4)                                        [32, 48, 28, 28]          [32, 88, 14, 14]          True\n",
       "│    │    └─MBConv (0)                                       [32, 48, 28, 28]          [32, 88, 14, 14]          True\n",
       "│    │    └─MBConv (1)                                       [32, 88, 14, 14]          [32, 88, 14, 14]          True\n",
       "│    │    └─MBConv (2)                                       [32, 88, 14, 14]          [32, 88, 14, 14]          True\n",
       "│    │    └─MBConv (3)                                       [32, 88, 14, 14]          [32, 88, 14, 14]          True\n",
       "│    └─Sequential (5)                                        [32, 88, 14, 14]          [32, 120, 14, 14]         True\n",
       "│    │    └─MBConv (0)                                       [32, 88, 14, 14]          [32, 120, 14, 14]         True\n",
       "│    │    └─MBConv (1)                                       [32, 120, 14, 14]         [32, 120, 14, 14]         True\n",
       "│    │    └─MBConv (2)                                       [32, 120, 14, 14]         [32, 120, 14, 14]         True\n",
       "│    │    └─MBConv (3)                                       [32, 120, 14, 14]         [32, 120, 14, 14]         True\n",
       "│    └─Sequential (6)                                        [32, 120, 14, 14]         [32, 208, 7, 7]           True\n",
       "│    │    └─MBConv (0)                                       [32, 120, 14, 14]         [32, 208, 7, 7]           True\n",
       "│    │    └─MBConv (1)                                       [32, 208, 7, 7]           [32, 208, 7, 7]           True\n",
       "│    │    └─MBConv (2)                                       [32, 208, 7, 7]           [32, 208, 7, 7]           True\n",
       "│    │    └─MBConv (3)                                       [32, 208, 7, 7]           [32, 208, 7, 7]           True\n",
       "│    │    └─MBConv (4)                                       [32, 208, 7, 7]           [32, 208, 7, 7]           True\n",
       "│    └─Sequential (7)                                        [32, 208, 7, 7]           [32, 352, 7, 7]           True\n",
       "│    │    └─MBConv (0)                                       [32, 208, 7, 7]           [32, 352, 7, 7]           True\n",
       "│    │    └─MBConv (1)                                       [32, 352, 7, 7]           [32, 352, 7, 7]           True\n",
       "│    └─Conv2dNormActivation (8)                              [32, 352, 7, 7]           [32, 1408, 7, 7]          True\n",
       "│    │    └─Conv2d (0)                                       [32, 352, 7, 7]           [32, 1408, 7, 7]          True\n",
       "│    │    └─BatchNorm2d (1)                                  [32, 1408, 7, 7]          [32, 1408, 7, 7]          True\n",
       "│    │    └─SiLU (2)                                         [32, 1408, 7, 7]          [32, 1408, 7, 7]          --\n",
       "├─AdaptiveAvgPool2d (avgpool)                                [32, 1408, 7, 7]          [32, 1408, 1, 1]          --\n",
       "├─Sequential (classifier)                                    [32, 1408]                [32, 1000]                True\n",
       "│    └─Dropout (0)                                           [32, 1408]                [32, 1408]                --\n",
       "│    └─Linear (1)                                            [32, 1408]                [32, 1000]                True\n",
       "=======================================================================================================================================\n",
       "Total params: 9,109,994\n",
       "Trainable params: 9,109,994\n",
       "Non-trainable params: 0\n",
       "Total mult-adds (Units.GIGABYTES): 21.09\n",
       "=======================================================================================================================================\n",
       "Input size (MB): 19.27\n",
       "Forward/backward pass size (MB): 5017.79\n",
       "Params size (MB): 36.44\n",
       "Estimated Total Size (MB): 5073.49\n",
       "======================================================================================================================================="
      ]
     },
     "execution_count": 11,
     "metadata": {},
     "output_type": "execute_result"
    }
   ],
   "source": [
    "model_stats = summary(model, input_size, col_names=[\"input_size\", \"output_size\",\"trainable\"],row_settings=[\"var_names\"])\n",
    "model_stats"
   ]
  },
  {
   "cell_type": "code",
   "execution_count": null,
   "id": "93d7178d",
   "metadata": {},
   "outputs": [
    {
     "ename": "NameError",
     "evalue": "name 'weights' is not defined",
     "output_type": "error",
     "traceback": [
      "\u001b[31m---------------------------------------------------------------------------\u001b[39m",
      "\u001b[31mNameError\u001b[39m                                 Traceback (most recent call last)",
      "\u001b[36mCell\u001b[39m\u001b[36m \u001b[39m\u001b[32mIn[12]\u001b[39m\u001b[32m, line 1\u001b[39m\n\u001b[32m----> \u001b[39m\u001b[32m1\u001b[39m \u001b[43mweights\u001b[49m.transforms()\n",
      "\u001b[31mNameError\u001b[39m: name 'weights' is not defined"
     ]
    }
   ],
   "source": [
    "weights.transforms()"
   ]
  },
  {
   "cell_type": "code",
   "execution_count": null,
   "id": "98a3cc93",
   "metadata": {},
   "outputs": [
    {
     "data": {
      "text/plain": [
       "ImageClassification(\n",
       "    crop_size=[288]\n",
       "    resize_size=[288]\n",
       "    mean=[0.485, 0.456, 0.406]\n",
       "    std=[0.229, 0.224, 0.225]\n",
       "    interpolation=InterpolationMode.BICUBIC\n",
       ")"
      ]
     },
     "execution_count": 13,
     "metadata": {},
     "output_type": "execute_result"
    }
   ],
   "source": [
    "weights = models.EfficientNet_B2_Weights.IMAGENET1K_V1\n",
    "weights.transforms()\n"
   ]
  },
  {
   "cell_type": "code",
   "execution_count": 2,
   "id": "064ce0f7",
   "metadata": {},
   "outputs": [],
   "source": [
    "import os, sys\n",
    "dir2 = os.path.abspath('')\n",
    "dir1 = os.path.dirname(dir2)\n",
    "if not dir1 in sys.path: sys.path.append(dir1)"
   ]
  },
  {
   "cell_type": "code",
   "execution_count": 3,
   "id": "11140346",
   "metadata": {},
   "outputs": [
    {
     "name": "stderr",
     "output_type": "stream",
     "text": [
      "c:\\Users\\admin\\AppData\\Local\\Programs\\Python\\Python313\\Lib\\site-packages\\tqdm\\auto.py:21: TqdmWarning: IProgress not found. Please update jupyter and ipywidgets. See https://ipywidgets.readthedocs.io/en/stable/user_install.html\n",
      "  from .autonotebook import tqdm as notebook_tqdm\n"
     ]
    },
    {
     "data": {
      "text/plain": [
       "WindowsPath('c:/Users/admin/Desktop/classification pj/models_/resnet_50_model.pth')"
      ]
     },
     "execution_count": 3,
     "metadata": {},
     "output_type": "execute_result"
    }
   ],
   "source": [
    "import gradio as gr\n",
    "import PIL\n",
    "from PIL.Image import Image\n",
    "from models.resnet_50 import create_resnet_50_model\n",
    "import torch\n",
    "from utils import get_cwd\n",
    "\n",
    "model = create_resnet_50_model(num_classes=10)\n",
    "type(get_cwd)\n",
    "type(get_cwd())\n",
    "get_cwd()/\"models_\"/\"resnet_50_model.pth\"\n",
    "\n",
    "\n"
   ]
  },
  {
   "cell_type": "code",
   "execution_count": null,
   "id": "7b4e02c9",
   "metadata": {},
   "outputs": [
    {
     "data": {
      "text/plain": [
       "torch.Size([1, 3, 224, 224])"
      ]
     },
     "execution_count": 13,
     "metadata": {},
     "output_type": "execute_result"
    }
   ],
   "source": [
    "from PIL import Image\n",
    "import torch\n",
    "from torchvision import transforms\n",
    "transform = transforms.Compose([\n",
    "    transforms.Resize((224, 224)),\n",
    "    transforms.ToTensor(),\n",
    "])\n",
    "image = Image.new(\"RGB\", (224, 224))\n",
    "img = transform(image).unsqueeze(0)  \n",
    "img.shape\n",
    "\n"
   ]
  },
  {
   "cell_type": "code",
   "execution_count": 5,
   "id": "2b3b1da2",
   "metadata": {},
   "outputs": [
    {
     "data": {
      "text/plain": [
       "WindowsPath('c:/Users/admin/Desktop/classification pj/models_/efficient_net_model.pth')"
      ]
     },
     "execution_count": 5,
     "metadata": {},
     "output_type": "execute_result"
    }
   ],
   "source": [
    "import gradio as gr\n",
    "import PIL\n",
    "from PIL.Image import Image\n",
    "from models.efficient_net import create_efficient_net_model\n",
    "import torch\n",
    "from utils import get_cwd\n",
    "\n",
    "model = create_efficient_net_model(num_classes=10)\n",
    "type(get_cwd)\n",
    "type(get_cwd())\n",
    "get_cwd()/\"models_\"/\"efficient_net_model.pth\"\n"
   ]
  },
  {
   "cell_type": "code",
   "execution_count": 15,
   "id": "771894b5",
   "metadata": {},
   "outputs": [
    {
     "data": {
      "text/plain": [
       "WindowsPath('c:/Users/admin/Desktop/classification pj/models/EfficientNet_model.pth')"
      ]
     },
     "execution_count": 15,
     "metadata": {},
     "output_type": "execute_result"
    }
   ],
   "source": [
    "import gradio as gr\n",
    "import PIL\n",
    "from PIL.Image import Image\n",
    "from models.efficient_net import create_efficient_net_model\n",
    "import torch\n",
    "from utils import get_cwd\n",
    "\n",
    "model = create_efficient_net_model(num_classes=10)\n",
    "type(get_cwd)\n",
    "type(get_cwd())\n",
    "get_cwd()/\"models\"/\"EfficientNet_model.pth\"\n"
   ]
  },
  {
   "cell_type": "code",
   "execution_count": 16,
   "id": "3a3ff532",
   "metadata": {},
   "outputs": [
    {
     "data": {
      "text/plain": [
       "WindowsPath('c:/Users/admin/Desktop/classification pj/models_/resnet_50_model.pth')"
      ]
     },
     "execution_count": 16,
     "metadata": {},
     "output_type": "execute_result"
    }
   ],
   "source": [
    "import gradio as gr\n",
    "import PIL\n",
    "from PIL.Image import Image\n",
    "from models.resnet_50 import create_resnet_50_model\n",
    "import torch\n",
    "from utils import get_cwd\n",
    "\n",
    "model = create_resnet_50_model(num_classes=10)\n",
    "type(get_cwd)\n",
    "type(get_cwd())\n",
    "get_cwd()/\"models_\"/\"resnet_50_model.pth\"\n"
   ]
  },
  {
   "cell_type": "code",
   "execution_count": 21,
   "id": "d42f48a3",
   "metadata": {},
   "outputs": [
    {
     "data": {
      "text/plain": [
       "WindowsPath('c:/Users/admin/Desktop/classification pj/models/ResNet50_model.pth')"
      ]
     },
     "execution_count": 21,
     "metadata": {},
     "output_type": "execute_result"
    }
   ],
   "source": [
    "get_cwd()/\"models\"/\"ResNet50_model.pth\""
   ]
  },
  {
   "cell_type": "code",
   "execution_count": 6,
   "id": "57685303",
   "metadata": {},
   "outputs": [],
   "source": [
    "import gradio as gr\n",
    "import PIL\n",
    "from PIL.Image import Image\n",
    "from models.resnet_50 import create_resnet_50_model\n",
    "import torch\n",
    "from utils import get_cwd\n",
    "\n",
    "model = create_resnet_50_model(num_classes=10)"
   ]
  },
  {
   "cell_type": "code",
   "execution_count": 2,
   "id": "a13c1cf7",
   "metadata": {},
   "outputs": [
    {
     "name": "stderr",
     "output_type": "stream",
     "text": [
      "c:\\Users\\admin\\AppData\\Local\\Programs\\Python\\Python313\\Lib\\site-packages\\tqdm\\auto.py:21: TqdmWarning: IProgress not found. Please update jupyter and ipywidgets. See https://ipywidgets.readthedocs.io/en/stable/user_install.html\n",
      "  from .autonotebook import tqdm as notebook_tqdm\n"
     ]
    },
    {
     "ename": "ModuleNotFoundError",
     "evalue": "No module named 'models'",
     "output_type": "error",
     "traceback": [
      "\u001b[31m---------------------------------------------------------------------------\u001b[39m",
      "\u001b[31mModuleNotFoundError\u001b[39m                       Traceback (most recent call last)",
      "\u001b[36mCell\u001b[39m\u001b[36m \u001b[39m\u001b[32mIn[2]\u001b[39m\u001b[32m, line 4\u001b[39m\n\u001b[32m      2\u001b[39m \u001b[38;5;28;01mimport\u001b[39;00m\u001b[38;5;250m \u001b[39m\u001b[34;01mPIL\u001b[39;00m\n\u001b[32m      3\u001b[39m \u001b[38;5;28;01mfrom\u001b[39;00m\u001b[38;5;250m \u001b[39m\u001b[34;01mPIL\u001b[39;00m\u001b[34;01m.\u001b[39;00m\u001b[34;01mImage\u001b[39;00m\u001b[38;5;250m \u001b[39m\u001b[38;5;28;01mimport\u001b[39;00m Image\n\u001b[32m----> \u001b[39m\u001b[32m4\u001b[39m \u001b[38;5;28;01mfrom\u001b[39;00m\u001b[38;5;250m \u001b[39m\u001b[34;01mmodels\u001b[39;00m\u001b[34;01m.\u001b[39;00m\u001b[34;01mresnet_50\u001b[39;00m\u001b[38;5;250m \u001b[39m\u001b[38;5;28;01mimport\u001b[39;00m create_resnet_50_model\n\u001b[32m      5\u001b[39m \u001b[38;5;28;01mimport\u001b[39;00m\u001b[38;5;250m \u001b[39m\u001b[34;01mtorch\u001b[39;00m\n\u001b[32m      6\u001b[39m \u001b[38;5;28;01mfrom\u001b[39;00m\u001b[38;5;250m \u001b[39m\u001b[34;01mutils\u001b[39;00m\u001b[38;5;250m \u001b[39m\u001b[38;5;28;01mimport\u001b[39;00m get_cwd\n",
      "\u001b[31mModuleNotFoundError\u001b[39m: No module named 'models'"
     ]
    }
   ],
   "source": [
    "import gradio as gr\n",
    "import PIL\n",
    "from PIL.Image import Image\n",
    "from models.resnet_50 import create_resnet_50_model\n",
    "import torch\n",
    "from utils import get_cwd\n",
    "\n",
    "model = create_resnet_50_model(num_classes=10)\n",
    "type(get_cwd)\n",
    "type(get_cwd())"
   ]
  },
  {
   "cell_type": "code",
   "execution_count": 26,
   "id": "04196216",
   "metadata": {},
   "outputs": [
    {
     "data": {
      "text/plain": [
       "'c:\\\\Users\\\\admin\\\\Desktop\\\\classification pj\\\\src\\\\notebooks'"
      ]
     },
     "execution_count": 26,
     "metadata": {},
     "output_type": "execute_result"
    }
   ],
   "source": [
    "import os\n",
    "os.getcwd()"
   ]
  },
  {
   "cell_type": "code",
   "execution_count": 4,
   "id": "88407469",
   "metadata": {},
   "outputs": [
    {
     "name": "stdout",
     "output_type": "stream",
     "text": [
      "Notebook đang chạy ở: c:\\Users\\admin\\Desktop\\classification pj\\src\\notebooks\n",
      "Full path tới model: c:\\Users\\admin\\Desktop\\classification pj\\src\\models\\ResNet50_model.pth\n"
     ]
    }
   ],
   "source": [
    "from pathlib import Path\n",
    "import torch\n",
    "\n",
    "# Lấy current working directory của notebook\n",
    "cwd = Path().cwd()\n",
    "print(\"Notebook đang chạy ở:\", cwd)\n",
    "\n",
    "# Ghép đường dẫn tới file model trong thư mục models\n",
    "model_path = cwd.parent / \"models\" / \"ResNet50_model.pth\"\n",
    "print(\"Full path tới model:\", model_path)"
   ]
  },
  {
   "cell_type": "code",
   "execution_count": 7,
   "id": "1f88da18",
   "metadata": {},
   "outputs": [
    {
     "data": {
      "text/plain": [
       "WindowsPath('c:/Users/admin/Desktop/classification pj/ResNet50_model.pth')"
      ]
     },
     "execution_count": 7,
     "metadata": {},
     "output_type": "execute_result"
    }
   ],
   "source": [
    "cwd = get_cwd()\n",
    "cwd\n",
    "cwd/\"ResNet50_model.pth\""
   ]
  },
  {
   "cell_type": "code",
   "execution_count": 4,
   "id": "11f08077",
   "metadata": {},
   "outputs": [
    {
     "data": {
      "text/plain": [
       "WindowsPath('c:/Users/admin/Desktop/classification pj/app.py')"
      ]
     },
     "execution_count": 4,
     "metadata": {},
     "output_type": "execute_result"
    }
   ],
   "source": [
    "cwd = get_cwd()\n",
    "cwd/\"app.py\"\n"
   ]
  },
  {
   "cell_type": "code",
   "execution_count": null,
   "id": "8247552e",
   "metadata": {},
   "outputs": [],
   "source": []
  }
 ],
 "metadata": {
  "kernelspec": {
   "display_name": "Python 3",
   "language": "python",
   "name": "python3"
  },
  "language_info": {
   "codemirror_mode": {
    "name": "ipython",
    "version": 3
   },
   "file_extension": ".py",
   "mimetype": "text/x-python",
   "name": "python",
   "nbconvert_exporter": "python",
   "pygments_lexer": "ipython3",
   "version": "3.13.7"
  }
 },
 "nbformat": 4,
 "nbformat_minor": 5
}
